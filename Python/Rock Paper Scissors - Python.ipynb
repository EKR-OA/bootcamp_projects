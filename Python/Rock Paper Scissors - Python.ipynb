{
 "cells":[
  {
   "cell_type":"markdown",
   "source":[
    "# Rock Paper Scissors"
   ],
   "attachments":{
    
   },
   "metadata":{
    "datalore":{
     "node_id":"Rock Paper Scissors",
     "type":"MD",
     "hide_input_from_viewers":false,
     "hide_output_from_viewers":false,
     "sheet_delimiter":true
    }
   }
  },
  {
   "cell_type":"markdown",
   "source":[
    "# Rock Paper Scissors Game With Python"
   ],
   "attachments":{
    
   },
   "metadata":{
    "datalore":{
     "node_id":"TrElgEYdF3psGKvj1OCIwY",
     "type":"MD",
     "hide_input_from_viewers":true,
     "hide_output_from_viewers":true
    }
   }
  },
  {
   "cell_type":"code",
   "source":[
    "import random\n",
    "draw = 0\n",
    "win = 0\n",
    "lose = 0    \n",
    "\n",
    "print(\"### Welcome to Rock Paper Scissor Game ###\")\n",
    "print(\"1 = Rock\")\n",
    "print(\"2 = Paper\")\n",
    "print(\"3 = Scissor\")\n",
    "print(\"If you want to quit game please press Q\")\n",
    "print(\"--------------------------------------\")\n",
    "while True:\n",
    "    print(\"Please press 1 2 3 or Q\")\n",
    "    player = input()\n",
    "    bot = random.randint(1,3)\n",
    "    bot = str(bot)\n",
    "    if player == \"Q\":\n",
    "        print(\"----------END---------\")\n",
    "        break\n",
    "    else:\n",
    "        #player choose Rock\n",
    "        if player == \"1\" and bot == \"3\":\n",
    "            win += 1\n",
    "            print(\"You choose Rock and Bot choose Scissor\")\n",
    "            print(\"You Win\")\n",
    "            print(\"--------------------------------------\")\n",
    "        elif player == \"1\" and bot == \"2\":\n",
    "            lose += 1\n",
    "            print(\"You choose Rock and Bot choose paper\")\n",
    "            print(\"You lose\")\n",
    "            print(\"--------------------------------------\")\n",
    "        elif player == \"1\" and bot == \"1\":\n",
    "            draw += 1\n",
    "            print(\"You and Bot choose Rock\")\n",
    "            print(\"Draw!\")\n",
    "            print(\"--------------------------------------\")\n",
    "        #player choose Paper\n",
    "        elif player == \"2\" and bot == \"1\":\n",
    "            win += 1\n",
    "            print(\"You choose Paper and Bot choose Rock\")\n",
    "            print(\"You Win\")\n",
    "            print(\"--------------------------------------\")\n",
    "        elif player == \"2\" and bot == \"3\":\n",
    "            lose += 1\n",
    "            print(\"You choose Paper and Bot choose Scissor\")\n",
    "            print(\"You lose\")\n",
    "            print(\"--------------------------------------\")\n",
    "        elif player == \"2\" and bot == \"2\":\n",
    "            draw += 1\n",
    "            print(\"You and Bot choose Paper\")\n",
    "            print(\"Draw!\")\n",
    "            print(\"--------------------------------------\")\n",
    "        #player choose Scissor\n",
    "        elif player == \"3\" and bot == \"2\":\n",
    "            win += 1\n",
    "            print(\"You choose Scissor and Bot choose Paper\")\n",
    "            print(\"You Win\")\n",
    "            print(\"--------------------------------------\")\n",
    "        elif player == \"3\" and bot == \"1\":\n",
    "            lose += 1\n",
    "            print(\"You choose Scissor and Bot choose Rock\")\n",
    "            print(\"You lose\")\n",
    "            print(\"--------------------------------------\")\n",
    "        elif player == \"3\" and bot == \"3\":\n",
    "            draw += 1\n",
    "            print(\"You and Bot choose Scissor\")\n",
    "            print(\"Draw!\")\n",
    "            print(\"--------------------------------------\")\n",
    "        else:\n",
    "            print(\"Please press 1 2 3 or Q\")\n",
    "\n",
    "print(f\"Win : {win}, Lose : {lose}, Draw : {draw}\")\n",
    "print(f\"Turn Total  : {win+lose+draw}\")"
   ],
   "execution_count":2,
   "outputs":[
    {
     "name":"stdout",
     "text":[
      "### Welcome to Rock Paper Scissor Game ###\n",
      "1 = Rock\n",
      "2 = Paper\n",
      "3 = Scissor\n",
      "If you want to quit game please press Q\n",
      "--------------------------------------\n",
      "Please press 1 2 3 or Q\n",
      " 1\n",
      "You and Bot choose Rock\n",
      "Draw!\n",
      "--------------------------------------\n",
      "Please press 1 2 3 or Q\n",
      " 2\n",
      "You choose Paper and Bot choose Scissor\n",
      "You lose\n",
      "--------------------------------------\n",
      "Please press 1 2 3 or Q\n",
      " 3\n",
      "You choose Scissor and Bot choose Rock\n",
      "You lose\n",
      "--------------------------------------\n",
      "Please press 1 2 3 or Q\n",
      " Q\n",
      "----------END---------\n",
      "Win : 0, Lose : 2, Draw : 1\n",
      "Turn Total  : 3\n"
     ],
     "output_type":"stream"
    }
   ],
   "metadata":{
    "datalore":{
     "node_id":"PDUtYgRL6YOPW5yYQwjN2v",
     "type":"CODE",
     "hide_input_from_viewers":true,
     "hide_output_from_viewers":true
    }
   }
  }
 ],
 "metadata":{
  "kernelspec":{
   "display_name":"Python",
   "language":"python",
   "name":"python"
  },
  "datalore":{
   "version":1,
   "computation_mode":"JUPYTER",
   "package_manager":"pip",
   "base_environment":"default",
   "packages":[
    
   ]
  }
 },
 "nbformat":4,
 "nbformat_minor":4
}