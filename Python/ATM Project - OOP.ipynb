{
 "cells":[
  {
   "cell_type":"markdown",
   "source":[
    "# ATM"
   ],
   "attachments":{
    
   },
   "metadata":{
    "datalore":{
     "node_id":"ATM",
     "type":"MD",
     "hide_input_from_viewers":false,
     "hide_output_from_viewers":false,
     "sheet_delimiter":true
    }
   }
  },
  {
   "cell_type":"markdown",
   "source":[
    "# ATM Project (OOP)\n",
    "ATM class by using Python"
   ],
   "attachments":{
    
   },
   "metadata":{
    "datalore":{
     "node_id":"rgK5iYg5MeE3QeEYq2cUsX",
     "type":"MD",
     "hide_input_from_viewers":true,
     "hide_output_from_viewers":true
    }
   }
  },
  {
   "cell_type":"code",
   "source":[
    "#ATM\n",
    "class ATM:\n",
    "    def __init__(self,name,balance):\n",
    "        self.name = name\n",
    "        self.balance = balance\n",
    "    def check_balance(self):\n",
    "        message = f\"Account: {self.name}, Balance: {self.balance}\"\n",
    "        print(message)\n",
    "    def deposit(self,money):\n",
    "        self.balance += money\n",
    "        print(f\"New Balance: {self.balance}\")\n",
    "        print(\"Deposit successfully.\")\n",
    "    def change_name(self,new_acc_name):\n",
    "        self.name = new_acc_name\n",
    "        print(f\"New name: {self.name}\")\n",
    "        print(\"Yor account name has been changed.\")\n",
    "    def withdraw(self,money):\n",
    "        self.balance -= money\n",
    "        print(f\"Your current balance is {self.balance}\")\n",
    "    def transfer(self,money,acc):\n",
    "        self.balance -= money\n",
    "        acc.balance += money\n",
    "        print(f\"You transfer {money} to {acc.name}'s account\")\n",
    "        print(f\"Your current balance is {self.balance}\")\n"
   ],
   "execution_count":1,
   "outputs":[
    
   ],
   "metadata":{
    "datalore":{
     "node_id":"wEUWaMVF3LnnsX9JANEMo8",
     "type":"CODE",
     "hide_input_from_viewers":true,
     "hide_output_from_viewers":true
    }
   }
  },
  {
   "cell_type":"code",
   "source":[
    "abc = ATM(\"Toy\",500)\n",
    "print(abc.name,abc.balance)\n",
    "abc.check_balance()\n",
    "abc.deposit(500)\n",
    "abc.change_name(\"Toyeiei\")\n",
    "\n",
    "xyz = ATM(\"John\",15000)\n",
    "xyz.check_balance()\n",
    "\n",
    "abc.withdraw(100)\n",
    "abc.transfer(100,xyz)"
   ],
   "execution_count":2,
   "outputs":[
    {
     "name":"stdout",
     "text":[
      "Toy 500\n",
      "Account: Toy, Balance: 500\n",
      "New Balance: 1000\n",
      "Deposit successfully.\n",
      "New name: Toyeiei\n",
      "Yor account name has been changed.\n",
      "Account: John, Balance: 15000\n",
      "Your current balance is 900\n",
      "You transfer 100 to John's account\n",
      "Your current balance is 800\n"
     ],
     "output_type":"stream"
    }
   ],
   "metadata":{
    "datalore":{
     "node_id":"fMRBPxTZHDtmMhq7QgK0Ws",
     "type":"CODE",
     "hide_input_from_viewers":true,
     "hide_output_from_viewers":true
    }
   }
  }
 ],
 "metadata":{
  "kernelspec":{
   "display_name":"Python",
   "language":"python",
   "name":"python"
  },
  "datalore":{
   "version":1,
   "computation_mode":"JUPYTER",
   "package_manager":"pip",
   "base_environment":"default",
   "packages":[
    
   ]
  }
 },
 "nbformat":4,
 "nbformat_minor":4
}